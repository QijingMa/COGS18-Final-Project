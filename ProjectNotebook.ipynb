{
 "cells": [
  {
   "cell_type": "markdown",
   "metadata": {},
   "source": [
    "# Project Description"
   ]
  },
  {
   "cell_type": "markdown",
   "metadata": {},
   "source": [
    "The goal of this project is to use funtion-based code to write a further extension for A3 ChatBots. The content of the project is about a basic text game about Pokemon. "
   ]
  },
  {
   "cell_type": "markdown",
   "metadata": {},
   "source": [
    "## Project Code\n",
    "\n",
    "If it makes sense for your project, you can have code and outputs here in the notebook as well."
   ]
  },
  {
   "cell_type": "code",
   "execution_count": null,
   "metadata": {},
   "outputs": [],
   "source": [
    "from my_module.functions import Intro\n",
    "from my_module.functions import choosePokemon\n",
    "from my_module.functions import chooseSkill1\n",
    "from my_module.functions import checkPath1\n",
    "from my_module.functions import chooseSkill2\n",
    "from my_module.functions import checkPath2\n",
    "from my_module.functions import chooseSkill3\n",
    "from my_module.functions import checkPath3"
   ]
  },
  {
   "cell_type": "code",
   "execution_count": null,
   "metadata": {},
   "outputs": [],
   "source": [
    "#import random\n",
    "import time\n",
    "    \n",
    "playAgain = \"yes\"\n",
    "while playAgain == \"yes\" or playAgain == \"y\":#allow play again \n",
    "    Intro()\n",
    "    choice1 = choosePokemon() #set choice of Pokemon to choice1\n",
    "    print(\"Good choice! \"+ choice1.capitalize() +\" is a great Pokemon\")\n",
    "    time.sleep(2)\n",
    "    print(\"This is my son Gary. He also wanna be a Pokemon trainer. Hopefully you guys will become good friends\")\n",
    "    time.sleep(3)\n",
    "    print(\"Gary:Hi,I just choose another Pokemon from the left two. Let's try fighting each other! \")\n",
    "    time.sleep(3)\n",
    "    print(\"A Pokemon fighting invitation from Gary!!!\")\n",
    "    \n",
    "    if choice1 == \"Squirtle\":#what would result for each pokemon \n",
    "        choice = chooseSkill1()\n",
    "        checkPath1(choice)#what would result for each skill choice\n",
    "    elif choice1==\"Charmander\":\n",
    "        choice = chooseSkill2()\n",
    "        checkPath2(choice)\n",
    "    elif choice1==\"Bulbasaur\":\n",
    "        choice = chooseSkill3()\n",
    "        checkPath3(choice)\n",
    "    playAgain = input(\"Do you want to play again? (yes or y to continue playing): \")"
   ]
  },
  {
   "cell_type": "code",
   "execution_count": null,
   "metadata": {},
   "outputs": [],
   "source": []
  },
  {
   "cell_type": "code",
   "execution_count": null,
   "metadata": {},
   "outputs": [],
   "source": []
  },
  {
   "cell_type": "code",
   "execution_count": null,
   "metadata": {},
   "outputs": [],
   "source": []
  }
 ],
 "metadata": {
  "kernelspec": {
   "display_name": "Python 3",
   "language": "python",
   "name": "python3"
  },
  "language_info": {
   "codemirror_mode": {
    "name": "ipython",
    "version": 3
   },
   "file_extension": ".py",
   "mimetype": "text/x-python",
   "name": "python",
   "nbconvert_exporter": "python",
   "pygments_lexer": "ipython3",
   "version": "3.7.0"
  }
 },
 "nbformat": 4,
 "nbformat_minor": 2
}
